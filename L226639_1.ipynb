{
  "nbformat": 4,
  "nbformat_minor": 0,
  "metadata": {
    "colab": {
      "provenance": []
    },
    "kernelspec": {
      "name": "python3",
      "display_name": "Python 3"
    },
    "language_info": {
      "name": "python"
    }
  },
  "cells": [
    {
      "cell_type": "code",
      "execution_count": null,
      "metadata": {
        "id": "CTn9ZtOZBrII"
      },
      "outputs": [],
      "source": [
        "# Task 1:\n",
        "\n",
        "import requests\n",
        "from bs4 import BeautifulSoup\n",
        "import pandas as pd\n"
      ]
    },
    {
      "cell_type": "code",
      "source": [
        "url = \"https://www.dawn.com/\"\n",
        "response = requests.get(url)\n",
        "\n",
        "if response.status_code != 200:\n",
        "    print(f\"Failed to retrieve the page. Status Code: {response.status_code}\")\n",
        "else:\n",
        "    soup = BeautifulSoup(response.text, \"html.parser\")"
      ],
      "metadata": {
        "id": "kV-3F1zGCRAC"
      },
      "execution_count": null,
      "outputs": []
    },
    {
      "cell_type": "code",
      "source": [
        "\n",
        "    headline_tags = soup.select(\"h2.story__title a\")\n",
        "\n",
        "    data = []\n",
        "    for tag in headline_tags[:30]:\n",
        "        headline_text = tag.get_text(strip=True)\n",
        "        headline_url = tag.get(\"href\") if tag.get(\"href\") else \"No URL available\"\n",
        "\n",
        "        data.append({\"Headline\": headline_text, \"URL\": headline_url})"
      ],
      "metadata": {
        "id": "V_lpQ9NCCZhE"
      },
      "execution_count": null,
      "outputs": []
    },
    {
      "cell_type": "code",
      "source": [
        "\n",
        "    df = pd.DataFrame(data)\n",
        "\n",
        "    if not df.empty:\n",
        "        print(df.to_string(index=False))\n",
        "    else:\n",
        "        print(\"No headlines found.\")"
      ],
      "metadata": {
        "colab": {
          "base_uri": "https://localhost:8080/"
        },
        "id": "QxQhZFF3ClRB",
        "outputId": "befd8c88-16be-49ee-c5a5-9425938cb6e9"
      },
      "execution_count": null,
      "outputs": [
        {
          "output_type": "stream",
          "name": "stdout",
          "text": [
            "                                                                                                   Headline                                                                                                                                                     URL\n",
            "        Aurangzeb says lessons learnt during recent floods, calls for acknowledging ‘self-inflicted’ damage                                                                                                          https://www.dawn.com/live/pakistan-floods-2025\n",
            "                                          Salman Agha’s fearless aura signals new dawn for Pakistan cricket                                                      https://www.dawn.com/news/1941847/salman-aghas-fearless-aura-signals-new-dawn-for-pakistan-cricket\n",
            "                       FM Dar discusses regional, international developments in phone call with Marco Rubio                                   https://www.dawn.com/news/1941905/fm-dar-discusses-regional-international-developments-in-phone-call-with-marco-rubio\n",
            "                 Top US diplomat says Hamas no longer a threat, can move to ‘next phase’ of rebuilding Gaza                                                                                                                 https://www.dawn.com/live/gaza-invasion\n",
            "                                           Supporters of slain US influencer Charlie Kirk shut down critics                                                      https://www.dawn.com/news/1941917/supporters-of-slain-us-influencer-charlie-kirk-shut-down-critics\n",
            "                                         Islamabad court moves to declare Malik Riaz, his son as absconders                                                     https://www.dawn.com/news/1941846/islamabad-court-moves-to-declare-malik-riaz-his-son-as-absconders\n",
            "                            Fed­e­ral Constabulary HQs to be shifted to capital; CDA asked to allocate land                                          https://www.dawn.com/news/1941835/federal-constabulary-hqs-to-be-shifted-to-capital-cda-asked-to-allocate-land\n",
            "                         Inflation, changing habits reshaping online food and grocery orders: foodpanda CEO                                                                                                                       https://www.dawn.com/news/1941812\n",
            "                                               Shabbar Zaidi warns crypto could serve as hawala alternative                                                          https://www.dawn.com/news/1941815/shabbar-zaidi-warns-crypto-could-serve-as-hawala-alternative\n",
            "                                                        Elders form body to ‘expel’ transgenders from Swabi                                                                     https://www.dawn.com/news/1941758/elders-form-body-to-expel-transgenders-from-swabi\n",
            "                 ‘Pure Cinema’ — Gen Z Can’t Believe Pakistan’s UN Ambassador Told Israel it Has No Friends                                                                                                             https://www.youtube.com/watch?v=QZ37RURNnc4\n",
            "                                                                                 What’s Happening in Nepal?                                                                                                             https://www.youtube.com/watch?v=gg3ZnfZ_fng\n",
            "                                                   Pakistan, Israel Trade Barbs at UNSC over Attack in Doha                                                                                                             https://www.youtube.com/watch?v=0O2Xl8um2Tw\n",
            "                                                                                   Israel’s Strike on Qatar                                                                                                             https://www.youtube.com/watch?v=bBxDij_g1tE\n",
            "                                                        Charlie Kirk Assassinated at Utah Valley University                                                                                                             https://www.youtube.com/watch?v=YaG5T21nX8o\n",
            "                                                                              9/11 Attacks 24th Anniversary                                                                                                             https://www.youtube.com/watch?v=hdfjILhpoBY\n",
            "           Trump in Damage Control After Israel’s Qatar Strike; Hamas Says 5 Killed, Region Condemns Attack                                                                                                             https://www.youtube.com/watch?v=9510-i4tX9Y\n",
            "                                              New-look Pakistan, India set to rekindle old rivalry in Dubai                                                          https://www.dawn.com/news/1941745/new-look-pakistan-india-set-to-rekindle-old-rivalry-in-dubai\n",
            "                        Ugly reality for Gulf Arab states is that the US guarantees their security and rule                                                                                                                       https://www.dawn.com/news/1941855\n",
            "Editorial: Arab and Muslim countries need to put up a united front to halt ethnic cleansing of Palestinians                                                                                                                       https://www.dawn.com/news/1941852\n",
            "                                                                       Gender and the fight against erasure                                                                                  https://www.dawn.com/news/1941712/gender-and-the-fight-against-erasure\n",
            "                                                                      Smokers’ corner: The hybrid judiciary                                                                                                                       https://www.dawn.com/news/1941705\n",
            "                        In a first, local doctors in Karachi team up to perform rare heart disorder surgery                                    https://www.dawn.com/news/1941808/in-a-first-local-doctors-in-karachi-team-up-to-perform-rare-heart-disorder-surgery\n",
            "                                                     Who is Tyler Robinson, alleged killer of Charlie Kirk?                                                                  https://www.dawn.com/news/1941821/who-is-tyler-robinson-alleged-killer-of-charlie-kirk\n",
            "                   Emotions run high as Pakistan and India face off in Asia Cup after May military conflict                              https://www.dawn.com/news/1941711/emotions-run-high-as-pakistan-and-india-face-off-in-asia-cup-after-may-military-conflict\n",
            "                 ‘Pure cinema’ — Gen Z can’t believe Pakistan’s UN ambassador told Israel it has no friends                               https://images.dawn.com/news/1194146/pure-cinema-gen-z-cant-believe-pakistans-un-ambassador-told-israel-it-has-no-friends\n",
            "                Chatter around Charlie Kirk’s murder reveals the paradoxical nature of MAGA, its supporters                                                                                                                       https://www.dawn.com/news/1941633\n",
            "  Sanam Saeed was ‘very concerned’ about taking on a Khalilur Rehman Qamar script with Main Manto Nahi Hoon https://images.dawn.com/news/1194147/sanam-saeed-admits-she-was-very-concerned-about-taking-on-a-khalilur-rehman-qamar-script-with-main-manto-nahi-hoon\n",
            "                                                                     Destroying Karachi through development                                                                                                                       https://www.dawn.com/news/1939975\n",
            "                 ‘Pure Cinema’ — Gen Z Can’t Believe Pakistan’s UN Ambassador Told Israel it Has No Friends                                                                                                             https://www.youtube.com/watch?v=QZ37RURNnc4\n"
          ]
        }
      ]
    },
    {
      "cell_type": "code",
      "source": [],
      "metadata": {
        "id": "uAydk8s_LYCk"
      },
      "execution_count": null,
      "outputs": []
    }
  ]
}